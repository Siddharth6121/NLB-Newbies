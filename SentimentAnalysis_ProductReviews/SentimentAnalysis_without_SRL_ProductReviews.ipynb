{
 "cells": [
  {
   "cell_type": "markdown",
   "id": "ce5e5784",
   "metadata": {},
   "source": [
    "<a id='title'/>"
   ]
  },
  {
   "cell_type": "code",
   "execution_count": 266,
   "id": "f1f66c6e",
   "metadata": {
    "tags": []
   },
   "outputs": [],
   "source": [
    "import pandas as pd\n",
    "import numpy as np\n",
    "import matplotlib.pyplot as plt\n",
    "%matplotlib inline\n",
    "plt.rcParams['figure.figsize'] = [16,10]\n",
    "import seaborn as sns\n",
    "sns.set_palette('colorblind')\n",
    "import warnings\n",
    "warnings.filterwarnings('ignore')\n",
    "from sklearn.metrics import classification_report\n",
    "import re\n",
    "from tensorflow import convert_to_tensor\n",
    "from tensorflow.keras.preprocessing.text import Tokenizer\n",
    "\n",
    "from tensorflow.keras.preprocessing.sequence import pad_sequences\n",
    "from nltk.tokenize import word_tokenize\n",
    "from nltk.stem import WordNetLemmatizer\n",
    "from nltk.corpus import stopwords\n",
    "from sklearn.model_selection import train_test_split\n",
    "from tensorflow.keras.models import Sequential, load_model\n",
    "from tensorflow.keras.layers import Embedding, LSTM, Dense, Dropout\n",
    "from keras.callbacks import EarlyStopping\n",
    "from keras import regularizers\n",
    "from tensorflow.keras.callbacks import ModelCheckpoint"
   ]
  },
  {
   "cell_type": "code",
   "execution_count": 267,
   "id": "c87e6b7d",
   "metadata": {
    "tags": []
   },
   "outputs": [],
   "source": [
    "# Import data\n",
    "df = pd.read_csv('srl_sentiment_labeled_data.csv')"
   ]
  },
  {
   "cell_type": "code",
   "execution_count": 268,
   "id": "8404f67a",
   "metadata": {
    "tags": []
   },
   "outputs": [
    {
     "name": "stdout",
     "output_type": "stream",
     "text": [
      "<class 'pandas.core.frame.DataFrame'>\n",
      "RangeIndex: 7673 entries, 0 to 7672\n",
      "Data columns (total 5 columns):\n",
      " #   Column           Non-Null Count  Dtype \n",
      "---  ------           --------------  ----- \n",
      " 0   Review           7673 non-null   object\n",
      " 1   Label            7673 non-null   object\n",
      " 2   sentiment        7673 non-null   object\n",
      " 3   sentiment label  7673 non-null   object\n",
      " 4   srl label        7673 non-null   object\n",
      "dtypes: object(5)\n",
      "memory usage: 299.9+ KB\n"
     ]
    }
   ],
   "source": [
    "# Review data shape\n",
    "df.info()"
   ]
  },
  {
   "cell_type": "code",
   "execution_count": 269,
   "id": "5cc3005f",
   "metadata": {
    "tags": []
   },
   "outputs": [],
   "source": [
    "# Keep relevant columns\n",
    "df = df[['Review', 'sentiment']]"
   ]
  },
  {
   "cell_type": "code",
   "execution_count": 270,
   "id": "c5a9e239",
   "metadata": {
    "tags": []
   },
   "outputs": [],
   "source": [
    "# Remove observations with no text\n",
    "df = df.dropna(subset='Review')"
   ]
  },
  {
   "cell_type": "code",
   "execution_count": 271,
   "id": "9dc5e548",
   "metadata": {
    "tags": []
   },
   "outputs": [
    {
     "name": "stdout",
     "output_type": "stream",
     "text": [
      "<class 'pandas.core.frame.DataFrame'>\n",
      "RangeIndex: 7673 entries, 0 to 7672\n",
      "Data columns (total 2 columns):\n",
      " #   Column     Non-Null Count  Dtype \n",
      "---  ------     --------------  ----- \n",
      " 0   Review     7673 non-null   object\n",
      " 1   sentiment  7673 non-null   object\n",
      "dtypes: object(2)\n",
      "memory usage: 120.0+ KB\n"
     ]
    }
   ],
   "source": [
    "# Review data shape\n",
    "df.info()"
   ]
  },
  {
   "cell_type": "code",
   "execution_count": 272,
   "id": "77274145",
   "metadata": {
    "tags": []
   },
   "outputs": [],
   "source": [
    "# Remove numbers from text\n",
    "def remove_numbers(text):\n",
    "    return re.sub(r'\\d+', '', text)\n",
    "\n",
    "df['Review'] = df['Review'].apply(remove_numbers)"
   ]
  },
  {
   "cell_type": "code",
   "execution_count": 273,
   "id": "acf5df6d",
   "metadata": {
    "tags": []
   },
   "outputs": [],
   "source": [
    "# Define function to identify unusual characters\n",
    "def has_unusual_chars(text):\n",
    "    # usual characters to ignore\n",
    "    if re.search(r'[^\\w\\s,.;:!?\\-]', text):\n",
    "        return True\n",
    "    else:\n",
    "        return False"
   ]
  },
  {
   "cell_type": "code",
   "execution_count": 274,
   "id": "c8777c2b",
   "metadata": {
    "tags": []
   },
   "outputs": [],
   "source": [
    "# Create new column to identify observations with unusual characters\n",
    "df['unusual_chars'] = df['Review'].apply(has_unusual_chars)"
   ]
  },
  {
   "cell_type": "code",
   "execution_count": 275,
   "id": "8d9a863a",
   "metadata": {
    "tags": []
   },
   "outputs": [
    {
     "data": {
      "text/html": [
       "<div>\n",
       "<style scoped>\n",
       "    .dataframe tbody tr th:only-of-type {\n",
       "        vertical-align: middle;\n",
       "    }\n",
       "\n",
       "    .dataframe tbody tr th {\n",
       "        vertical-align: top;\n",
       "    }\n",
       "\n",
       "    .dataframe thead th {\n",
       "        text-align: right;\n",
       "    }\n",
       "</style>\n",
       "<table border=\"1\" class=\"dataframe\">\n",
       "  <thead>\n",
       "    <tr style=\"text-align: right;\">\n",
       "      <th></th>\n",
       "      <th>Review</th>\n",
       "      <th>sentiment</th>\n",
       "      <th>unusual_chars</th>\n",
       "    </tr>\n",
       "  </thead>\n",
       "  <tbody>\n",
       "    <tr>\n",
       "      <th>3</th>\n",
       "      <td>leaving aa's behind at a lower price than the ...</td>\n",
       "      <td>POSITIVE</td>\n",
       "      <td>True</td>\n",
       "    </tr>\n",
       "    <tr>\n",
       "      <th>12</th>\n",
       "      <td>with the current $ rebate its about the same p...</td>\n",
       "      <td>POSITIVE</td>\n",
       "      <td>True</td>\n",
       "    </tr>\n",
       "    <tr>\n",
       "      <th>19</th>\n",
       "      <td>we paid around $  pair- about the same price w...</td>\n",
       "      <td>NEGATIVE</td>\n",
       "      <td>True</td>\n",
       "    </tr>\n",
       "    <tr>\n",
       "      <th>23</th>\n",
       "      <td>so $ for the unit   and then another $ to get ...</td>\n",
       "      <td>NEGATIVE</td>\n",
       "      <td>True</td>\n",
       "    </tr>\n",
       "    <tr>\n",
       "      <th>29</th>\n",
       "      <td>as a smaller sized set  it's great for the bed...</td>\n",
       "      <td>POSITIVE</td>\n",
       "      <td>True</td>\n",
       "    </tr>\n",
       "    <tr>\n",
       "      <th>...</th>\n",
       "      <td>...</td>\n",
       "      <td>...</td>\n",
       "      <td>...</td>\n",
       "    </tr>\n",
       "    <tr>\n",
       "      <th>7663</th>\n",
       "      <td>otherwise it's awesome  the sound is as good a...</td>\n",
       "      <td>POSITIVE</td>\n",
       "      <td>True</td>\n",
       "    </tr>\n",
       "    <tr>\n",
       "      <th>7664</th>\n",
       "      <td>otherwise it's awesome  the sound is as good a...</td>\n",
       "      <td>POSITIVE</td>\n",
       "      <td>True</td>\n",
       "    </tr>\n",
       "    <tr>\n",
       "      <th>7665</th>\n",
       "      <td>its faster than the scroll wheel on garmin i  ...</td>\n",
       "      <td>POSITIVE</td>\n",
       "      <td>True</td>\n",
       "    </tr>\n",
       "    <tr>\n",
       "      <th>7667</th>\n",
       "      <td>this unit is better than any usb headset i hav...</td>\n",
       "      <td>POSITIVE</td>\n",
       "      <td>True</td>\n",
       "    </tr>\n",
       "    <tr>\n",
       "      <th>7671</th>\n",
       "      <td>i thought that $ was to much to pay for one in...</td>\n",
       "      <td>NEGATIVE</td>\n",
       "      <td>True</td>\n",
       "    </tr>\n",
       "  </tbody>\n",
       "</table>\n",
       "<p>2108 rows × 3 columns</p>\n",
       "</div>"
      ],
      "text/plain": [
       "                                                 Review sentiment  \\\n",
       "3     leaving aa's behind at a lower price than the ...  POSITIVE   \n",
       "12    with the current $ rebate its about the same p...  POSITIVE   \n",
       "19    we paid around $  pair- about the same price w...  NEGATIVE   \n",
       "23    so $ for the unit   and then another $ to get ...  NEGATIVE   \n",
       "29    as a smaller sized set  it's great for the bed...  POSITIVE   \n",
       "...                                                 ...       ...   \n",
       "7663  otherwise it's awesome  the sound is as good a...  POSITIVE   \n",
       "7664  otherwise it's awesome  the sound is as good a...  POSITIVE   \n",
       "7665  its faster than the scroll wheel on garmin i  ...  POSITIVE   \n",
       "7667  this unit is better than any usb headset i hav...  POSITIVE   \n",
       "7671  i thought that $ was to much to pay for one in...  NEGATIVE   \n",
       "\n",
       "      unusual_chars  \n",
       "3              True  \n",
       "12             True  \n",
       "19             True  \n",
       "23             True  \n",
       "29             True  \n",
       "...             ...  \n",
       "7663           True  \n",
       "7664           True  \n",
       "7665           True  \n",
       "7667           True  \n",
       "7671           True  \n",
       "\n",
       "[2108 rows x 3 columns]"
      ]
     },
     "execution_count": 275,
     "metadata": {},
     "output_type": "execute_result"
    }
   ],
   "source": [
    "# View identified characters\n",
    "df[df['unusual_chars'] == True]"
   ]
  },
  {
   "cell_type": "code",
   "execution_count": 276,
   "id": "db3e2bb0",
   "metadata": {
    "tags": []
   },
   "outputs": [
    {
     "name": "stdout",
     "output_type": "stream",
     "text": [
      "Percent of Observation with Unusual Characters: 27.47%\n"
     ]
    }
   ],
   "source": [
    "# Quantify observations found\n",
    "print(f'Percent of Observation with Unusual Characters: {round(df.unusual_chars.mean() * 100, 2)}%')"
   ]
  },
  {
   "cell_type": "code",
   "execution_count": 277,
   "id": "9b5985f9",
   "metadata": {
    "tags": []
   },
   "outputs": [],
   "source": [
    "# Initialize a Tokenizer object\n",
    "tokenizer = Tokenizer(num_words=10000)"
   ]
  },
  {
   "cell_type": "code",
   "execution_count": 278,
   "id": "1e44edc7",
   "metadata": {
    "tags": []
   },
   "outputs": [],
   "source": [
    "# Fit the tokenizer on the text data\n",
    "tokenizer.fit_on_texts(df['Review'])"
   ]
  },
  {
   "cell_type": "code",
   "execution_count": 279,
   "id": "a5485d28",
   "metadata": {
    "tags": []
   },
   "outputs": [],
   "source": [
    "# Convert texts into sequences of integers and tokens\n",
    "df['sequence'] = tokenizer.texts_to_sequences(df['Review'])\n",
    "df['seq_text'] = tokenizer.sequences_to_texts(df['sequence'])"
   ]
  },
  {
   "cell_type": "code",
   "execution_count": 280,
   "id": "d9ae30f0-0bc5-4e07-9b64-110f29c42c49",
   "metadata": {
    "tags": []
   },
   "outputs": [
    {
     "data": {
      "text/plain": [
       "0       [186, 75, 214, 24, 139, 27, 97, 3074, 130, 410...\n",
       "1       [5, 357, 1, 358, 19, 11, 1142, 2, 65, 9, 112, ...\n",
       "2       [169, 1700, 131, 2, 972, 1302, 12, 1, 21, 13, ...\n",
       "3       [2516, 2517, 3075, 29, 2, 73, 13, 7, 1, 2518, ...\n",
       "4       [11, 98, 96, 1143, 3, 5, 178, 8, 12, 2, 18, 17...\n",
       "                              ...                        \n",
       "7668    [81, 265, 31, 16, 36, 16, 22, 164, 1166, 265, ...\n",
       "7669    [46, 31, 17, 7, 370, 121, 265, 4100, 15, 33, 1...\n",
       "7670    [1, 990, 28, 197, 188, 265, 45, 31, 114, 6, 92...\n",
       "7671    [5, 351, 19, 20, 6, 18, 6, 300, 12, 38, 229, 4...\n",
       "7672    [1, 232, 4, 17, 7, 22, 125, 68, 2460, 158, 144...\n",
       "Name: sequence, Length: 7673, dtype: object"
      ]
     },
     "execution_count": 280,
     "metadata": {},
     "output_type": "execute_result"
    }
   ],
   "source": [
    "df['sequence'] "
   ]
  },
  {
   "cell_type": "code",
   "execution_count": 281,
   "id": "f8b04caf-8565-4804-b0a7-403bc616e487",
   "metadata": {
    "tags": []
   },
   "outputs": [
    {
     "data": {
      "text/plain": [
       "0       while there may have been less noise caused by...\n",
       "1       i love the fact that this adds a little more w...\n",
       "2       go ahead find a center channel for the same pr...\n",
       "3       leaving aa's behind at a lower price than the ...\n",
       "4       this product works wonderful and i got it for ...\n",
       "                              ...                        \n",
       "7668    these speakers are as good as my bose outdoor ...\n",
       "7669    they are better than regular computer speakers...\n",
       "7670    the package has two small speakers which are s...\n",
       "7671    i thought that was to much to pay for one ink ...\n",
       "7672    the remote is better than my old sony hi thoug...\n",
       "Name: seq_text, Length: 7673, dtype: object"
      ]
     },
     "execution_count": 281,
     "metadata": {},
     "output_type": "execute_result"
    }
   ],
   "source": [
    "df['seq_text']"
   ]
  },
  {
   "cell_type": "code",
   "execution_count": 282,
   "id": "8c798c99",
   "metadata": {
    "tags": []
   },
   "outputs": [
    {
     "name": "stdout",
     "output_type": "stream",
     "text": [
      "Found 7603 unique tokens.\n"
     ]
    }
   ],
   "source": [
    "# Count the word index\n",
    "word_index = tokenizer.word_index\n",
    "print(f'Found {len(word_index)} unique tokens.')"
   ]
  },
  {
   "cell_type": "code",
   "execution_count": 283,
   "id": "3dc37a96",
   "metadata": {
    "tags": []
   },
   "outputs": [],
   "source": [
    "# Calculate sequence lengths\n",
    "df['seq_length'] = df['sequence'].apply(len)\n",
    "df.drop('sequence', axis=1, inplace=True)"
   ]
  },
  {
   "cell_type": "code",
   "execution_count": 284,
   "id": "dad2a9f1",
   "metadata": {
    "tags": []
   },
   "outputs": [
    {
     "name": "stdout",
     "output_type": "stream",
     "text": [
      "count    7673.000000\n",
      "mean       19.805682\n",
      "std         5.901115\n",
      "min         4.000000\n",
      "25%        15.000000\n",
      "50%        20.000000\n",
      "75%        24.000000\n",
      "max        33.000000\n",
      "Name: seq_length, dtype: float64\n"
     ]
    }
   ],
   "source": [
    "# Print summary statistics\n",
    "print(df['seq_length'].describe())"
   ]
  },
  {
   "cell_type": "code",
   "execution_count": 285,
   "id": "59476f97",
   "metadata": {
    "tags": []
   },
   "outputs": [
    {
     "data": {
      "image/png": "[encoded data removed]",
      "text/plain": [
       "<Figure size 1600x500 with 1 Axes>"
      ]
     },
     "metadata": {},
     "output_type": "display_data"
    }
   ],
   "source": [
    "plt.rcParams['figure.figsize'] = [16,5]\n",
    "# Visualize distribution of sequence lengths\n",
    "sns.histplot(data=df['seq_length'], bins=50)\n",
    "plt.title('Distribution of Sequence Lengths')\n",
    "plt.xlabel('Sequence Length')\n",
    "plt.ylabel('Frequency')\n",
    "plt.show()\n",
    "plt.rcParams['figure.figsize'] = [16,10]"
   ]
  },
  {
   "cell_type": "code",
   "execution_count": 286,
   "id": "461a61f2",
   "metadata": {
    "tags": []
   },
   "outputs": [
    {
     "name": "stdout",
     "output_type": "stream",
     "text": [
      "Chosen Maximum Sequence Length: 29 tokens\n"
     ]
    }
   ],
   "source": [
    "# Identify the 95th percentile of sequence lengths\n",
    "max_seq = int(df.seq_length.quantile(0.95))\n",
    "print(f'Chosen Maximum Sequence Length: {max_seq} tokens')"
   ]
  },
  {
   "cell_type": "code",
   "execution_count": 287,
   "id": "f3ee814b",
   "metadata": {
    "tags": []
   },
   "outputs": [],
   "source": [
    "# Tokenize text sequence\n",
    "df['tokens'] = df['seq_text'].apply(word_tokenize)"
   ]
  },
  {
   "cell_type": "code",
   "execution_count": 288,
   "id": "4b88d85b",
   "metadata": {
    "tags": []
   },
   "outputs": [],
   "source": [
    "# Initialize a WordNetLemmatizer object\n",
    "lemmatizer = WordNetLemmatizer()"
   ]
  },
  {
   "cell_type": "code",
   "execution_count": 289,
   "id": "833be10b",
   "metadata": {
    "tags": []
   },
   "outputs": [],
   "source": [
    "# Define a function to lemmatize tokens\n",
    "def lemmatize_words(words):\n",
    "    return [lemmatizer.lemmatize(word) for word in words]"
   ]
  },
  {
   "cell_type": "code",
   "execution_count": 290,
   "id": "0e473e18",
   "metadata": {
    "tags": []
   },
   "outputs": [],
   "source": [
    "# Convert words into their root forms\n",
    "df['lemmatized'] = df['tokens'].apply(lemmatize_words)"
   ]
  },
  {
   "cell_type": "code",
   "execution_count": 291,
   "id": "3c38be64-ab55-43f4-8a61-10c196925499",
   "metadata": {
    "tags": []
   },
   "outputs": [
    {
     "name": "stderr",
     "output_type": "stream",
     "text": [
      "[nltk_data] Downloading package stopwords to\n",
      "[nltk_data]     /home/rahulporwal/nltk_data...\n",
      "[nltk_data]   Package stopwords is already up-to-date!\n"
     ]
    },
    {
     "data": {
      "text/plain": [
       "True"
      ]
     },
     "execution_count": 291,
     "metadata": {},
     "output_type": "execute_result"
    }
   ],
   "source": [
    "import nltk\n",
    "nltk.download('stopwords')"
   ]
  },
  {
   "cell_type": "code",
   "execution_count": 292,
   "id": "bc93e57b",
   "metadata": {
    "tags": []
   },
   "outputs": [],
   "source": [
    "stop_words = set(stopwords.words('english'))\n",
    "\n",
    "# Define function to remove stop words\n",
    "def remove_stopwords(words):\n",
    "    return [word for word in words if word not in stop_words]"
   ]
  },
  {
   "cell_type": "code",
   "execution_count": 293,
   "id": "24ec3cdd",
   "metadata": {
    "tags": []
   },
   "outputs": [],
   "source": [
    "# Remove stop words from tokenized text\n",
    "df['filtered'] = df['lemmatized'].apply(remove_stopwords)"
   ]
  },
  {
   "cell_type": "code",
   "execution_count": 294,
   "id": "db94feb9",
   "metadata": {
    "tags": []
   },
   "outputs": [],
   "source": [
    "# Fit the tokenizer on the text data\n",
    "tokenizer.fit_on_texts(df['filtered'])"
   ]
  },
  {
   "cell_type": "code",
   "execution_count": 295,
   "id": "b13e997a",
   "metadata": {
    "tags": []
   },
   "outputs": [
    {
     "name": "stdout",
     "output_type": "stream",
     "text": [
      "Found 7800 unique tokens.\n"
     ]
    }
   ],
   "source": [
    "# Count the word index\n",
    "word_index = tokenizer.word_index\n",
    "print(f'Found {len(word_index)} unique tokens.')"
   ]
  },
  {
   "cell_type": "code",
   "execution_count": 296,
   "id": "c8a2dd89",
   "metadata": {
    "tags": []
   },
   "outputs": [],
   "source": [
    "# Sequence the filtered text\n",
    "df['seq'] = tokenizer.texts_to_sequences(df['filtered'])"
   ]
  },
  {
   "cell_type": "code",
   "execution_count": 297,
   "id": "55cd05b5",
   "metadata": {
    "tags": []
   },
   "outputs": [],
   "source": [
    "# Pad sequences\n",
    "padded_sequences = pad_sequences(df['seq'].values, maxlen=max_seq)"
   ]
  },
  {
   "cell_type": "code",
   "execution_count": 298,
   "id": "08ea6b75",
   "metadata": {
    "tags": []
   },
   "outputs": [
    {
     "data": {
      "text/plain": [
       "['may',\n",
       " 'le',\n",
       " 'noise',\n",
       " 'caused',\n",
       " 'turbulence',\n",
       " 'claim',\n",
       " 'duct',\n",
       " 'seemed',\n",
       " 'vibrating',\n",
       " 'giving',\n",
       " 'whining',\n",
       " 'sound']"
      ]
     },
     "execution_count": 298,
     "metadata": {},
     "output_type": "execute_result"
    }
   ],
   "source": [
    "# Single sequence\n",
    "df.loc[0]['filtered']"
   ]
  },
  {
   "cell_type": "code",
   "execution_count": 299,
   "id": "8f7237e1",
   "metadata": {
    "tags": []
   },
   "outputs": [
    {
     "data": {
      "text/plain": [
       "array([   0,    0,    0,    0,    0,    0,    0,    0,    0,    0,    0,\n",
       "          0,    0,    0,    0,    0,    0,  204,   36,   84, 3039, 4094,\n",
       "       1680, 4095,  870, 4096, 1119, 4097,   67], dtype=int32)"
      ]
     },
     "execution_count": 299,
     "metadata": {},
     "output_type": "execute_result"
    }
   ],
   "source": [
    "# Single padded sequence\n",
    "padded_sequences[0]"
   ]
  },
  {
   "cell_type": "code",
   "execution_count": 300,
   "id": "12d5d169",
   "metadata": {
    "tags": []
   },
   "outputs": [],
   "source": [
    "# One-hot encode classes\n",
    "df_encoded = pd.get_dummies(df['sentiment'])"
   ]
  },
  {
   "cell_type": "code",
   "execution_count": 301,
   "id": "8bd946bf",
   "metadata": {
    "tags": []
   },
   "outputs": [
    {
     "data": {
      "text/html": [
       "<div>\n",
       "<style scoped>\n",
       "    .dataframe tbody tr th:only-of-type {\n",
       "        vertical-align: middle;\n",
       "    }\n",
       "\n",
       "    .dataframe tbody tr th {\n",
       "        vertical-align: top;\n",
       "    }\n",
       "\n",
       "    .dataframe thead th {\n",
       "        text-align: right;\n",
       "    }\n",
       "</style>\n",
       "<table border=\"1\" class=\"dataframe\">\n",
       "  <thead>\n",
       "    <tr style=\"text-align: right;\">\n",
       "      <th></th>\n",
       "      <th>NEGATIVE</th>\n",
       "      <th>POSITIVE</th>\n",
       "    </tr>\n",
       "  </thead>\n",
       "  <tbody>\n",
       "    <tr>\n",
       "      <th>0</th>\n",
       "      <td>1</td>\n",
       "      <td>0</td>\n",
       "    </tr>\n",
       "    <tr>\n",
       "      <th>1</th>\n",
       "      <td>0</td>\n",
       "      <td>1</td>\n",
       "    </tr>\n",
       "    <tr>\n",
       "      <th>2</th>\n",
       "      <td>1</td>\n",
       "      <td>0</td>\n",
       "    </tr>\n",
       "    <tr>\n",
       "      <th>3</th>\n",
       "      <td>0</td>\n",
       "      <td>1</td>\n",
       "    </tr>\n",
       "    <tr>\n",
       "      <th>4</th>\n",
       "      <td>0</td>\n",
       "      <td>1</td>\n",
       "    </tr>\n",
       "  </tbody>\n",
       "</table>\n",
       "</div>"
      ],
      "text/plain": [
       "   NEGATIVE  POSITIVE\n",
       "0         1         0\n",
       "1         0         1\n",
       "2         1         0\n",
       "3         0         1\n",
       "4         0         1"
      ]
     },
     "execution_count": 301,
     "metadata": {},
     "output_type": "execute_result"
    }
   ],
   "source": [
    "df_encoded.head()"
   ]
  },
  {
   "cell_type": "code",
   "execution_count": 302,
   "id": "890d0662",
   "metadata": {
    "tags": []
   },
   "outputs": [],
   "source": [
    "# Define the X and y values\n",
    "X = padded_sequences\n",
    "y = df_encoded.values"
   ]
  },
  {
   "cell_type": "code",
   "execution_count": 303,
   "id": "48f36f7f",
   "metadata": {
    "tags": []
   },
   "outputs": [],
   "source": [
    "# Split training and testing sets\n",
    "X_train, X_test, y_train, y_test = train_test_split(X, y, train_size=0.7)"
   ]
  },
  {
   "cell_type": "code",
   "execution_count": 304,
   "id": "88518333",
   "metadata": {
    "tags": []
   },
   "outputs": [
    {
     "data": {
      "text/html": [
       "<div>\n",
       "<style scoped>\n",
       "    .dataframe tbody tr th:only-of-type {\n",
       "        vertical-align: middle;\n",
       "    }\n",
       "\n",
       "    .dataframe tbody tr th {\n",
       "        vertical-align: top;\n",
       "    }\n",
       "\n",
       "    .dataframe thead th {\n",
       "        text-align: right;\n",
       "    }\n",
       "</style>\n",
       "<table border=\"1\" class=\"dataframe\">\n",
       "  <thead>\n",
       "    <tr style=\"text-align: right;\">\n",
       "      <th></th>\n",
       "      <th>0</th>\n",
       "      <th>1</th>\n",
       "      <th>2</th>\n",
       "      <th>3</th>\n",
       "      <th>4</th>\n",
       "      <th>5</th>\n",
       "      <th>6</th>\n",
       "      <th>7</th>\n",
       "      <th>8</th>\n",
       "      <th>9</th>\n",
       "      <th>...</th>\n",
       "      <th>21</th>\n",
       "      <th>22</th>\n",
       "      <th>23</th>\n",
       "      <th>24</th>\n",
       "      <th>25</th>\n",
       "      <th>26</th>\n",
       "      <th>27</th>\n",
       "      <th>28</th>\n",
       "      <th>NEGATIVE</th>\n",
       "      <th>POSITIVE</th>\n",
       "    </tr>\n",
       "  </thead>\n",
       "  <tbody>\n",
       "    <tr>\n",
       "      <th>0</th>\n",
       "      <td>0</td>\n",
       "      <td>0</td>\n",
       "      <td>0</td>\n",
       "      <td>0</td>\n",
       "      <td>0</td>\n",
       "      <td>0</td>\n",
       "      <td>0</td>\n",
       "      <td>0</td>\n",
       "      <td>0</td>\n",
       "      <td>0</td>\n",
       "      <td>...</td>\n",
       "      <td>4094</td>\n",
       "      <td>1680</td>\n",
       "      <td>4095</td>\n",
       "      <td>870</td>\n",
       "      <td>4096</td>\n",
       "      <td>1119</td>\n",
       "      <td>4097</td>\n",
       "      <td>67</td>\n",
       "      <td>1</td>\n",
       "      <td>0</td>\n",
       "    </tr>\n",
       "    <tr>\n",
       "      <th>1</th>\n",
       "      <td>0</td>\n",
       "      <td>0</td>\n",
       "      <td>0</td>\n",
       "      <td>0</td>\n",
       "      <td>0</td>\n",
       "      <td>0</td>\n",
       "      <td>0</td>\n",
       "      <td>0</td>\n",
       "      <td>0</td>\n",
       "      <td>0</td>\n",
       "      <td>...</td>\n",
       "      <td>0</td>\n",
       "      <td>0</td>\n",
       "      <td>330</td>\n",
       "      <td>342</td>\n",
       "      <td>492</td>\n",
       "      <td>52</td>\n",
       "      <td>100</td>\n",
       "      <td>1681</td>\n",
       "      <td>0</td>\n",
       "      <td>1</td>\n",
       "    </tr>\n",
       "    <tr>\n",
       "      <th>2</th>\n",
       "      <td>0</td>\n",
       "      <td>0</td>\n",
       "      <td>0</td>\n",
       "      <td>0</td>\n",
       "      <td>0</td>\n",
       "      <td>0</td>\n",
       "      <td>0</td>\n",
       "      <td>0</td>\n",
       "      <td>0</td>\n",
       "      <td>0</td>\n",
       "      <td>...</td>\n",
       "      <td>969</td>\n",
       "      <td>901</td>\n",
       "      <td>6</td>\n",
       "      <td>48</td>\n",
       "      <td>244</td>\n",
       "      <td>503</td>\n",
       "      <td>67</td>\n",
       "      <td>4098</td>\n",
       "      <td>1</td>\n",
       "      <td>0</td>\n",
       "    </tr>\n",
       "    <tr>\n",
       "      <th>3</th>\n",
       "      <td>0</td>\n",
       "      <td>0</td>\n",
       "      <td>0</td>\n",
       "      <td>0</td>\n",
       "      <td>0</td>\n",
       "      <td>0</td>\n",
       "      <td>0</td>\n",
       "      <td>0</td>\n",
       "      <td>0</td>\n",
       "      <td>0</td>\n",
       "      <td>...</td>\n",
       "      <td>92</td>\n",
       "      <td>316</td>\n",
       "      <td>381</td>\n",
       "      <td>521</td>\n",
       "      <td>970</td>\n",
       "      <td>3041</td>\n",
       "      <td>132</td>\n",
       "      <td>69</td>\n",
       "      <td>0</td>\n",
       "      <td>1</td>\n",
       "    </tr>\n",
       "    <tr>\n",
       "      <th>4</th>\n",
       "      <td>0</td>\n",
       "      <td>0</td>\n",
       "      <td>0</td>\n",
       "      <td>0</td>\n",
       "      <td>0</td>\n",
       "      <td>0</td>\n",
       "      <td>0</td>\n",
       "      <td>0</td>\n",
       "      <td>0</td>\n",
       "      <td>0</td>\n",
       "      <td>...</td>\n",
       "      <td>1120</td>\n",
       "      <td>162</td>\n",
       "      <td>13</td>\n",
       "      <td>9</td>\n",
       "      <td>6</td>\n",
       "      <td>59</td>\n",
       "      <td>754</td>\n",
       "      <td>601</td>\n",
       "      <td>0</td>\n",
       "      <td>1</td>\n",
       "    </tr>\n",
       "    <tr>\n",
       "      <th>...</th>\n",
       "      <td>...</td>\n",
       "      <td>...</td>\n",
       "      <td>...</td>\n",
       "      <td>...</td>\n",
       "      <td>...</td>\n",
       "      <td>...</td>\n",
       "      <td>...</td>\n",
       "      <td>...</td>\n",
       "      <td>...</td>\n",
       "      <td>...</td>\n",
       "      <td>...</td>\n",
       "      <td>...</td>\n",
       "      <td>...</td>\n",
       "      <td>...</td>\n",
       "      <td>...</td>\n",
       "      <td>...</td>\n",
       "      <td>...</td>\n",
       "      <td>...</td>\n",
       "      <td>...</td>\n",
       "      <td>...</td>\n",
       "      <td>...</td>\n",
       "    </tr>\n",
       "    <tr>\n",
       "      <th>7668</th>\n",
       "      <td>0</td>\n",
       "      <td>0</td>\n",
       "      <td>0</td>\n",
       "      <td>0</td>\n",
       "      <td>0</td>\n",
       "      <td>0</td>\n",
       "      <td>0</td>\n",
       "      <td>0</td>\n",
       "      <td>0</td>\n",
       "      <td>0</td>\n",
       "      <td>...</td>\n",
       "      <td>286</td>\n",
       "      <td>26</td>\n",
       "      <td>149</td>\n",
       "      <td>1138</td>\n",
       "      <td>286</td>\n",
       "      <td>36</td>\n",
       "      <td>250</td>\n",
       "      <td>6</td>\n",
       "      <td>0</td>\n",
       "      <td>1</td>\n",
       "    </tr>\n",
       "    <tr>\n",
       "      <th>7669</th>\n",
       "      <td>0</td>\n",
       "      <td>0</td>\n",
       "      <td>0</td>\n",
       "      <td>0</td>\n",
       "      <td>0</td>\n",
       "      <td>0</td>\n",
       "      <td>0</td>\n",
       "      <td>0</td>\n",
       "      <td>0</td>\n",
       "      <td>0</td>\n",
       "      <td>...</td>\n",
       "      <td>353</td>\n",
       "      <td>106</td>\n",
       "      <td>286</td>\n",
       "      <td>3909</td>\n",
       "      <td>26</td>\n",
       "      <td>7</td>\n",
       "      <td>3909</td>\n",
       "      <td>92</td>\n",
       "      <td>0</td>\n",
       "      <td>1</td>\n",
       "    </tr>\n",
       "    <tr>\n",
       "      <th>7670</th>\n",
       "      <td>0</td>\n",
       "      <td>0</td>\n",
       "      <td>0</td>\n",
       "      <td>0</td>\n",
       "      <td>0</td>\n",
       "      <td>0</td>\n",
       "      <td>0</td>\n",
       "      <td>0</td>\n",
       "      <td>0</td>\n",
       "      <td>0</td>\n",
       "      <td>...</td>\n",
       "      <td>103</td>\n",
       "      <td>571</td>\n",
       "      <td>106</td>\n",
       "      <td>286</td>\n",
       "      <td>175</td>\n",
       "      <td>19</td>\n",
       "      <td>307</td>\n",
       "      <td>2637</td>\n",
       "      <td>1</td>\n",
       "      <td>0</td>\n",
       "    </tr>\n",
       "    <tr>\n",
       "      <th>7671</th>\n",
       "      <td>0</td>\n",
       "      <td>0</td>\n",
       "      <td>0</td>\n",
       "      <td>0</td>\n",
       "      <td>0</td>\n",
       "      <td>0</td>\n",
       "      <td>0</td>\n",
       "      <td>0</td>\n",
       "      <td>0</td>\n",
       "      <td>0</td>\n",
       "      <td>...</td>\n",
       "      <td>206</td>\n",
       "      <td>280</td>\n",
       "      <td>676</td>\n",
       "      <td>1855</td>\n",
       "      <td>36</td>\n",
       "      <td>7</td>\n",
       "      <td>7134</td>\n",
       "      <td>280</td>\n",
       "      <td>1</td>\n",
       "      <td>0</td>\n",
       "    </tr>\n",
       "    <tr>\n",
       "      <th>7672</th>\n",
       "      <td>0</td>\n",
       "      <td>0</td>\n",
       "      <td>0</td>\n",
       "      <td>0</td>\n",
       "      <td>0</td>\n",
       "      <td>0</td>\n",
       "      <td>0</td>\n",
       "      <td>0</td>\n",
       "      <td>0</td>\n",
       "      <td>0</td>\n",
       "      <td>...</td>\n",
       "      <td>1366</td>\n",
       "      <td>4091</td>\n",
       "      <td>336</td>\n",
       "      <td>21</td>\n",
       "      <td>518</td>\n",
       "      <td>3849</td>\n",
       "      <td>41</td>\n",
       "      <td>382</td>\n",
       "      <td>0</td>\n",
       "      <td>1</td>\n",
       "    </tr>\n",
       "  </tbody>\n",
       "</table>\n",
       "<p>7673 rows × 31 columns</p>\n",
       "</div>"
      ],
      "text/plain": [
       "      0  1  2  3  4  5  6  7  8  9  ...    21    22    23    24    25    26  \\\n",
       "0     0  0  0  0  0  0  0  0  0  0  ...  4094  1680  4095   870  4096  1119   \n",
       "1     0  0  0  0  0  0  0  0  0  0  ...     0     0   330   342   492    52   \n",
       "2     0  0  0  0  0  0  0  0  0  0  ...   969   901     6    48   244   503   \n",
       "3     0  0  0  0  0  0  0  0  0  0  ...    92   316   381   521   970  3041   \n",
       "4     0  0  0  0  0  0  0  0  0  0  ...  1120   162    13     9     6    59   \n",
       "...  .. .. .. .. .. .. .. .. .. ..  ...   ...   ...   ...   ...   ...   ...   \n",
       "7668  0  0  0  0  0  0  0  0  0  0  ...   286    26   149  1138   286    36   \n",
       "7669  0  0  0  0  0  0  0  0  0  0  ...   353   106   286  3909    26     7   \n",
       "7670  0  0  0  0  0  0  0  0  0  0  ...   103   571   106   286   175    19   \n",
       "7671  0  0  0  0  0  0  0  0  0  0  ...   206   280   676  1855    36     7   \n",
       "7672  0  0  0  0  0  0  0  0  0  0  ...  1366  4091   336    21   518  3849   \n",
       "\n",
       "        27    28  NEGATIVE  POSITIVE  \n",
       "0     4097    67         1         0  \n",
       "1      100  1681         0         1  \n",
       "2       67  4098         1         0  \n",
       "3      132    69         0         1  \n",
       "4      754   601         0         1  \n",
       "...    ...   ...       ...       ...  \n",
       "7668   250     6         0         1  \n",
       "7669  3909    92         0         1  \n",
       "7670   307  2637         1         0  \n",
       "7671  7134   280         1         0  \n",
       "7672    41   382         0         1  \n",
       "\n",
       "[7673 rows x 31 columns]"
      ]
     },
     "execution_count": 304,
     "metadata": {},
     "output_type": "execute_result"
    }
   ],
   "source": [
    "# Concatenate X and y into one DataFrame\n",
    "df_sequences = pd.DataFrame(X)\n",
    "df_clean = pd.concat([df_sequences, df_encoded.reset_index(drop=True)], axis=1)\n",
    "\n",
    "df_clean"
   ]
  },
  {
   "cell_type": "code",
   "execution_count": 305,
   "id": "8d07e8e5",
   "metadata": {
    "scrolled": true,
    "tags": []
   },
   "outputs": [],
   "source": [
    "# Store the cleaned dataset\n",
    "df_clean.to_json('clean_reviews.json')"
   ]
  },
  {
   "cell_type": "code",
   "execution_count": 306,
   "id": "8a1dabc8",
   "metadata": {
    "tags": []
   },
   "outputs": [],
   "source": [
    "# Initialize a Sequential model object\n",
    "model = Sequential([\n",
    "    Embedding(input_dim=len(word_index), output_dim=200, input_length=max_seq),\n",
    "    LSTM(128, return_sequences=True),\n",
    "    Dropout(0.5),\n",
    "    LSTM(128),\n",
    "    Dense(64, activation='relu', \n",
    "          kernel_regularizer=regularizers.l2(0.01), \n",
    "          activity_regularizer=regularizers.l1(0.01)),\n",
    "    Dense(2, activation='softmax')  # number of classes (sentiment categories)\n",
    "])"
   ]
  },
  {
   "cell_type": "code",
   "execution_count": 307,
   "id": "c7f49257",
   "metadata": {
    "tags": []
   },
   "outputs": [],
   "source": [
    "model.compile(loss='categorical_crossentropy', optimizer='adam', metrics=['accuracy'])"
   ]
  },
  {
   "cell_type": "code",
   "execution_count": 308,
   "id": "a1a2fd3c",
   "metadata": {
    "tags": []
   },
   "outputs": [
    {
     "name": "stdout",
     "output_type": "stream",
     "text": [
      "Model: \"sequential_5\"\n",
      "_________________________________________________________________\n",
      "Layer (type)                 Output Shape              Param #   \n",
      "=================================================================\n",
      "embedding_5 (Embedding)      (None, 29, 200)           1560000   \n",
      "_________________________________________________________________\n",
      "lstm_10 (LSTM)               (None, 29, 128)           168448    \n",
      "_________________________________________________________________\n",
      "dropout_5 (Dropout)          (None, 29, 128)           0         \n",
      "_________________________________________________________________\n",
      "lstm_11 (LSTM)               (None, 128)               131584    \n",
      "_________________________________________________________________\n",
      "dense_10 (Dense)             (None, 64)                8256      \n",
      "_________________________________________________________________\n",
      "dense_11 (Dense)             (None, 2)                 130       \n",
      "=================================================================\n",
      "Total params: 1,868,418\n",
      "Trainable params: 1,868,418\n",
      "Non-trainable params: 0\n",
      "_________________________________________________________________\n"
     ]
    }
   ],
   "source": [
    "model.summary()"
   ]
  },
  {
   "cell_type": "code",
   "execution_count": 309,
   "id": "9c3a05ee",
   "metadata": {
    "tags": []
   },
   "outputs": [],
   "source": [
    "# Define validation set and convert to Tensor\n",
    "stop = int(len(X_test)/2)\n",
    "\n",
    "X_train = convert_to_tensor(X_train)\n",
    "X_val = convert_to_tensor(X_test[:stop])\n",
    "X_test = convert_to_tensor(X_test[stop:])\n",
    "\n",
    "y_train = convert_to_tensor(y_train)\n",
    "y_val = convert_to_tensor(y_test[:stop])\n",
    "y_test = convert_to_tensor(y_test[stop:])\n",
    "checkpoint_path = \"model_checkpoint.h5\"\n",
    "checkpoint_callback = ModelCheckpoint(filepath=checkpoint_path,\n",
    "                                      monitor='val_accuracy',\n",
    "                                      save_best_only=True,\n",
    "                                      verbose=1)"
   ]
  },
  {
   "cell_type": "code",
   "execution_count": 310,
   "id": "d6bfc846",
   "metadata": {
    "tags": []
   },
   "outputs": [],
   "source": [
    "# Create early stopping object\n",
    "#early_stopping = EarlyStopping(monitor='val_loss', min_delta=0, patience=3, verbose=1, mode='auto')"
   ]
  },
  {
   "cell_type": "code",
   "execution_count": 311,
   "id": "7e492bb4",
   "metadata": {
    "tags": []
   },
   "outputs": [
    {
     "name": "stdout",
     "output_type": "stream",
     "text": [
      "Epoch 1/10\n",
      "168/168 [==============================] - 3s 8ms/step - loss: 0.8548 - accuracy: 0.7120 - val_loss: 0.6022 - val_accuracy: 0.7341\n",
      "\n",
      "Epoch 00001: val_accuracy improved from -inf to 0.73414, saving model to model_checkpoint.h5\n",
      "Epoch 2/10\n",
      "168/168 [==============================] - 1s 6ms/step - loss: 0.4503 - accuracy: 0.8241 - val_loss: 0.5628 - val_accuracy: 0.7272\n",
      "\n",
      "Epoch 00002: val_accuracy did not improve from 0.73414\n",
      "Epoch 3/10\n",
      "168/168 [==============================] - 1s 7ms/step - loss: 0.3326 - accuracy: 0.8833 - val_loss: 0.6022 - val_accuracy: 0.7176\n",
      "\n",
      "Epoch 00003: val_accuracy did not improve from 0.73414\n",
      "Epoch 4/10\n",
      "168/168 [==============================] - 2s 12ms/step - loss: 0.2466 - accuracy: 0.9196 - val_loss: 0.6684 - val_accuracy: 0.7376\n",
      "\n",
      "Epoch 00004: val_accuracy improved from 0.73414 to 0.73762, saving model to model_checkpoint.h5\n",
      "Epoch 5/10\n",
      "168/168 [==============================] - 2s 12ms/step - loss: 0.1894 - accuracy: 0.9427 - val_loss: 0.8699 - val_accuracy: 0.7124\n",
      "\n",
      "Epoch 00005: val_accuracy did not improve from 0.73762\n",
      "Epoch 6/10\n",
      "168/168 [==============================] - 1s 9ms/step - loss: 0.1450 - accuracy: 0.9628 - val_loss: 0.8201 - val_accuracy: 0.7220\n",
      "\n",
      "Epoch 00006: val_accuracy did not improve from 0.73762\n",
      "Epoch 7/10\n",
      "168/168 [==============================] - 1s 6ms/step - loss: 0.1148 - accuracy: 0.9736 - val_loss: 1.0202 - val_accuracy: 0.7298\n",
      "\n",
      "Epoch 00007: val_accuracy did not improve from 0.73762\n",
      "Epoch 8/10\n",
      "168/168 [==============================] - 1s 5ms/step - loss: 0.0996 - accuracy: 0.9797 - val_loss: 0.9333 - val_accuracy: 0.7246\n",
      "\n",
      "Epoch 00008: val_accuracy did not improve from 0.73762\n",
      "Epoch 9/10\n",
      "168/168 [==============================] - 1s 6ms/step - loss: 0.0842 - accuracy: 0.9845 - val_loss: 1.0646 - val_accuracy: 0.7272\n",
      "\n",
      "Epoch 00009: val_accuracy did not improve from 0.73762\n",
      "Epoch 10/10\n",
      "168/168 [==============================] - 1s 6ms/step - loss: 0.0744 - accuracy: 0.9868 - val_loss: 1.0570 - val_accuracy: 0.7307\n",
      "\n",
      "Epoch 00010: val_accuracy did not improve from 0.73762\n"
     ]
    }
   ],
   "source": [
    "# Train the model\n",
    "#history = model.fit(\n",
    "#    X_train, y_train,\n",
    "#    epochs=100, # Set large number of epochs to ensure the early-stopping function is invoked\n",
    "#    batch_size=32,\n",
    "#    validation_data=(X_val, y_val),\n",
    "#    callbacks=[early_stopping]\n",
    "#)\n",
    "# Train the model\n",
    "history = model.fit(\n",
    "    X_train, y_train,\n",
    "    epochs=10,\n",
    "    batch_size=32,\n",
    "    validation_data=(X_val, y_val),\n",
    "    callbacks=[checkpoint_callback]\n",
    ")"
   ]
  },
  {
   "cell_type": "code",
   "execution_count": 312,
   "id": "4f1d86da",
   "metadata": {
    "tags": []
   },
   "outputs": [
    {
     "data": {
      "text/html": [
       "<div>\n",
       "<style scoped>\n",
       "    .dataframe tbody tr th:only-of-type {\n",
       "        vertical-align: middle;\n",
       "    }\n",
       "\n",
       "    .dataframe tbody tr th {\n",
       "        vertical-align: top;\n",
       "    }\n",
       "\n",
       "    .dataframe thead th {\n",
       "        text-align: right;\n",
       "    }\n",
       "</style>\n",
       "<table border=\"1\" class=\"dataframe\">\n",
       "  <thead>\n",
       "    <tr style=\"text-align: right;\">\n",
       "      <th></th>\n",
       "      <th>loss</th>\n",
       "      <th>accuracy</th>\n",
       "      <th>val_loss</th>\n",
       "      <th>val_accuracy</th>\n",
       "    </tr>\n",
       "  </thead>\n",
       "  <tbody>\n",
       "    <tr>\n",
       "      <th>0</th>\n",
       "      <td>0.854777</td>\n",
       "      <td>0.711972</td>\n",
       "      <td>0.602184</td>\n",
       "      <td>0.734144</td>\n",
       "    </tr>\n",
       "    <tr>\n",
       "      <th>1</th>\n",
       "      <td>0.450264</td>\n",
       "      <td>0.824055</td>\n",
       "      <td>0.562833</td>\n",
       "      <td>0.727194</td>\n",
       "    </tr>\n",
       "    <tr>\n",
       "      <th>2</th>\n",
       "      <td>0.332622</td>\n",
       "      <td>0.883262</td>\n",
       "      <td>0.602152</td>\n",
       "      <td>0.717637</td>\n",
       "    </tr>\n",
       "    <tr>\n",
       "      <th>3</th>\n",
       "      <td>0.246620</td>\n",
       "      <td>0.919568</td>\n",
       "      <td>0.668413</td>\n",
       "      <td>0.737619</td>\n",
       "    </tr>\n",
       "    <tr>\n",
       "      <th>4</th>\n",
       "      <td>0.189396</td>\n",
       "      <td>0.942655</td>\n",
       "      <td>0.869865</td>\n",
       "      <td>0.712424</td>\n",
       "    </tr>\n",
       "    <tr>\n",
       "      <th>5</th>\n",
       "      <td>0.145023</td>\n",
       "      <td>0.962763</td>\n",
       "      <td>0.820091</td>\n",
       "      <td>0.721981</td>\n",
       "    </tr>\n",
       "    <tr>\n",
       "      <th>6</th>\n",
       "      <td>0.114789</td>\n",
       "      <td>0.973562</td>\n",
       "      <td>1.020158</td>\n",
       "      <td>0.729800</td>\n",
       "    </tr>\n",
       "    <tr>\n",
       "      <th>7</th>\n",
       "      <td>0.099592</td>\n",
       "      <td>0.979706</td>\n",
       "      <td>0.933318</td>\n",
       "      <td>0.724587</td>\n",
       "    </tr>\n",
       "    <tr>\n",
       "      <th>8</th>\n",
       "      <td>0.084209</td>\n",
       "      <td>0.984547</td>\n",
       "      <td>1.064591</td>\n",
       "      <td>0.727194</td>\n",
       "    </tr>\n",
       "    <tr>\n",
       "      <th>9</th>\n",
       "      <td>0.074351</td>\n",
       "      <td>0.986781</td>\n",
       "      <td>1.056987</td>\n",
       "      <td>0.730669</td>\n",
       "    </tr>\n",
       "  </tbody>\n",
       "</table>\n",
       "</div>"
      ],
      "text/plain": [
       "       loss  accuracy  val_loss  val_accuracy\n",
       "0  0.854777  0.711972  0.602184      0.734144\n",
       "1  0.450264  0.824055  0.562833      0.727194\n",
       "2  0.332622  0.883262  0.602152      0.717637\n",
       "3  0.246620  0.919568  0.668413      0.737619\n",
       "4  0.189396  0.942655  0.869865      0.712424\n",
       "5  0.145023  0.962763  0.820091      0.721981\n",
       "6  0.114789  0.973562  1.020158      0.729800\n",
       "7  0.099592  0.979706  0.933318      0.724587\n",
       "8  0.084209  0.984547  1.064591      0.727194\n",
       "9  0.074351  0.986781  1.056987      0.730669"
      ]
     },
     "execution_count": 312,
     "metadata": {},
     "output_type": "execute_result"
    }
   ],
   "source": [
    "# Log the training results\n",
    "results = pd.DataFrame(history.history)\n",
    "results"
   ]
  },
  {
   "cell_type": "code",
   "execution_count": 313,
   "id": "76167fcd",
   "metadata": {
    "tags": []
   },
   "outputs": [
    {
     "data": {
      "image/png": "[encoded data removed]",
      "text/plain": [
       "<Figure size 1600x500 with 1 Axes>"
      ]
     },
     "metadata": {},
     "output_type": "display_data"
    }
   ],
   "source": [
    "plt.rcParams['figure.figsize'] = [16,5]\n",
    "# Plot loss\n",
    "sns.lineplot(data=results[['loss', 'val_loss']])\n",
    "plt.title('LSTM Model\\'s Training vs Validation Loss')\n",
    "plt.xlabel('Epoch')\n",
    "plt.ylabel('Loss')\n",
    "plt.legend(['Training', 'Validation'])\n",
    "plt.show()\n",
    "plt.rcParams['figure.figsize'] = [16,10]"
   ]
  },
  {
   "cell_type": "code",
   "execution_count": 314,
   "id": "e8fdd34c",
   "metadata": {
    "tags": []
   },
   "outputs": [
    {
     "data": {
      "image/png": "[encoded data removed]",
      "text/plain": [
       "<Figure size 1600x500 with 1 Axes>"
      ]
     },
     "metadata": {},
     "output_type": "display_data"
    }
   ],
   "source": [
    "plt.rcParams['figure.figsize'] = [16,5]\n",
    "#Plot accuracy\n",
    "sns.lineplot(data=results[['accuracy', 'val_accuracy']])\n",
    "plt.title('LSTM Model\\'s Training vs Validation Accuracy')\n",
    "plt.xlabel('Epoch')\n",
    "plt.ylabel('Accuracy')\n",
    "plt.legend(['Training', 'Validation'])\n",
    "plt.show()\n",
    "plt.rcParams['figure.figsize'] = [16,10]"
   ]
  },
  {
   "cell_type": "code",
   "execution_count": 321,
   "id": "8880f606",
   "metadata": {
    "tags": []
   },
   "outputs": [
    {
     "name": "stdout",
     "output_type": "stream",
     "text": [
      "Evaluate on test data\n",
      "36/36 [==============================] - 0s 2ms/step - loss: 0.6400 - accuracy: 0.7576\n",
      "Test loss, Test accuracy: [0.6400271058082581, 0.7576020956039429]\n"
     ]
    }
   ],
   "source": [
    "# Evaluate the model on the test data\n",
    "print('Evaluate on test data')\n",
    "loaded_model = load_model('model_checkpoint_without_SRL_final.h5')\n",
    "test_results = loaded_model.evaluate(X_test, y_test, batch_size=32)\n",
    "print('Test loss, Test accuracy:', test_results)"
   ]
  },
  {
   "cell_type": "code",
   "execution_count": 322,
   "id": "f687d3ba",
   "metadata": {},
   "outputs": [],
   "source": [
    "# Save the trained network\n",
    "#model.save('lstm_model.h5')  # create an HDF5 file 'lstm_model.h5'"
   ]
  },
  {
   "cell_type": "code",
   "execution_count": 323,
   "id": "1256d581",
   "metadata": {
    "tags": []
   },
   "outputs": [
    {
     "name": "stdout",
     "output_type": "stream",
     "text": [
      "              precision    recall  f1-score   support\n",
      "\n",
      "           0       0.62      0.44      0.51       338\n",
      "           1       0.79      0.89      0.84       813\n",
      "\n",
      "    accuracy                           0.76      1151\n",
      "   macro avg       0.71      0.66      0.68      1151\n",
      "weighted avg       0.74      0.76      0.74      1151\n",
      "\n"
     ]
    }
   ],
   "source": [
    "y_pred = loaded_model.predict(X_test)\n",
    "\n",
    "# Convert predicted probabilities to class labels\n",
    "y_pred_labels = np.argmax(y_pred, axis=1)\n",
    "y_true_labels = np.argmax(y_test, axis=1)\n",
    "\n",
    "# Calculate precision, recall, and F1 score\n",
    "report = classification_report(y_true_labels, y_pred_labels)\n",
    "print(report)"
   ]
  },
  {
   "cell_type": "code",
   "execution_count": null,
   "id": "c1165d55-220f-4b68-b4fb-a5ce1d3ad233",
   "metadata": {},
   "outputs": [],
   "source": []
  }
 ],
 "metadata": {
  "kernelspec": {
   "display_name": "NLP_NEWBIES",
   "language": "python",
   "name": "nlpnewbies"
  },
  "language_info": {
   "codemirror_mode": {
    "name": "ipython",
    "version": 3
   },
   "file_extension": ".py",
   "mimetype": "text/x-python",
   "name": "python",
   "nbconvert_exporter": "python",
   "pygments_lexer": "ipython3",
   "version": "3.9.15"
  }
 },
 "nbformat": 4,
 "nbformat_minor": 5
}
